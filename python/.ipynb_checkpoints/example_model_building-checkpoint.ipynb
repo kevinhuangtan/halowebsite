{
 "metadata": {
  "name": "",
  "signature": "sha256:ec7736f7f284d3aee0e20538381bb71b3269e22dd76c590f2adf6d74454e2078"
 },
 "nbformat": 3,
 "nbformat_minor": 0,
 "worksheets": [
  {
   "cells": [
    {
     "cell_type": "code",
     "collapsed": false,
     "input": [
      "import sm_models, sfr_models"
     ],
     "language": "python",
     "metadata": {},
     "outputs": [],
     "prompt_number": 1
    },
    {
     "cell_type": "markdown",
     "metadata": {},
     "source": [
      "### First we build a blueprint for a population of centrals"
     ]
    },
    {
     "cell_type": "code",
     "collapsed": false,
     "input": [
      "central_stellar_mass_model = sm_models.StellarMassModel1(gal_type='centrals', \n",
      "                                                         prim_haloprop_key='mvir')"
     ],
     "language": "python",
     "metadata": {},
     "outputs": [],
     "prompt_number": 2
    },
    {
     "cell_type": "code",
     "collapsed": false,
     "input": [
      "central_quenching_model = sfr_models.QuenchingModel2(gal_type='centrals', \n",
      "                                                         prim_haloprop_key='mvir', \n",
      "                                                         abcissa = 1e13, ordinates = 0.5)"
     ],
     "language": "python",
     "metadata": {},
     "outputs": [],
     "prompt_number": 3
    },
    {
     "cell_type": "code",
     "collapsed": false,
     "input": [
      "central_blueprint = {central_stellar_mass_model.galprop_key: central_stellar_mass_model, \n",
      "                     central_quenching_model.galprop_key: central_quenching_model}"
     ],
     "language": "python",
     "metadata": {},
     "outputs": [],
     "prompt_number": 4
    },
    {
     "cell_type": "markdown",
     "metadata": {},
     "source": [
      "### Now we build a blueprint for a population of satellites"
     ]
    },
    {
     "cell_type": "code",
     "collapsed": false,
     "input": [
      "satellite_stellar_mass_model = sm_models.StellarMassModel2(gal_type='satellites', \n",
      "                                                         prim_haloprop_key='mvir', \n",
      "                                                         sec_haloprop_key='vmax')"
     ],
     "language": "python",
     "metadata": {},
     "outputs": [],
     "prompt_number": 5
    },
    {
     "cell_type": "code",
     "collapsed": false,
     "input": [
      "satellite_quenching_model = sfr_models.QuenchingModel2(gal_type='satellites', \n",
      "                                                         prim_haloprop_key='mpeak', \n",
      "                                                         abcissa = [10**11, 10**13, 10**15], \n",
      "                                                         ordinates = [0.2, 0.4, 0.7])"
     ],
     "language": "python",
     "metadata": {},
     "outputs": [],
     "prompt_number": 6
    },
    {
     "cell_type": "code",
     "collapsed": false,
     "input": [
      "satellite_blueprint = {satellite_stellar_mass_model.galprop_key: satellite_stellar_mass_model, \n",
      "                     satellite_quenching_model.galprop_key: satellite_quenching_model}"
     ],
     "language": "python",
     "metadata": {},
     "outputs": [],
     "prompt_number": 7
    },
    {
     "cell_type": "markdown",
     "metadata": {},
     "source": [
      "### Now we bundle those two together into a composite model blueprint"
     ]
    },
    {
     "cell_type": "code",
     "collapsed": false,
     "input": [
      "model_blueprint = {'centrals': central_blueprint, \n",
      "                             'satellites': satellite_blueprint}"
     ],
     "language": "python",
     "metadata": {},
     "outputs": [],
     "prompt_number": 8
    },
    {
     "cell_type": "markdown",
     "metadata": {},
     "source": [
      "The website should work such that you can enter in values in fields, and you download an importable modulename.py file. So that the following works from a python terminal:"
     ]
    },
    {
     "cell_type": "code",
     "collapsed": false,
     "input": [
      "import modulename\n",
      "my_model_dict = modulename.model_blueprint"
     ],
     "language": "python",
     "metadata": {},
     "outputs": [],
     "prompt_number": 8
    },
    {
     "cell_type": "markdown",
     "metadata": {},
     "source": [
      "Once users have a dictionary built in this special way, the existing Halotools code will take care of the rest. \n",
      "\n",
      "To get this started, just use the actual modules and classes that this demo is based on. Start off writing as hacky as you please. But eventually, it will need to be pro-quality code. And you'll need to teach me how to use it, so that I can adapt the front-end myself as the back-end evolves. "
     ]
    },
    {
     "cell_type": "code",
     "collapsed": false,
     "input": [],
     "language": "python",
     "metadata": {},
     "outputs": [],
     "prompt_number": 8
    },
    {
     "cell_type": "code",
     "collapsed": false,
     "input": [],
     "language": "python",
     "metadata": {},
     "outputs": [],
     "prompt_number": 8
    },
    {
     "cell_type": "code",
     "collapsed": false,
     "input": [],
     "language": "python",
     "metadata": {},
     "outputs": [],
     "prompt_number": 8
    },
    {
     "cell_type": "code",
     "collapsed": false,
     "input": [],
     "language": "python",
     "metadata": {},
     "outputs": []
    }
   ],
   "metadata": {}
  }
 ]
}